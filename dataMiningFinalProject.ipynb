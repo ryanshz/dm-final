{
 "cells": [
  {
   "cell_type": "markdown",
   "id": "5796752f-1497-4ac6-bc2b-1daced996500",
   "metadata": {},
   "source": [
    "# Predicting Spotify Top Hits: A Machine Learning Approach to Song Popularity"
   ]
  },
  {
   "cell_type": "markdown",
   "id": "d26262a1-ef1e-4c74-8e2c-52aa4a66b286",
   "metadata": {},
   "source": [
    "## Introduction:\n"
   ]
  },
  {
   "cell_type": "markdown",
   "id": "c6ad4769-5f6b-4163-939a-705948882459",
   "metadata": {},
   "source": [
    "Music is a huge part of modern culture, with people across the world able to band together under a familiar tune or make the day-in-day-out a bit less tedious. Music is always in high demand, constantly being created and acting as one of the largest sources of entertainment. Our dataset features the top music hits of the 00’s and 10’s. We aim to classify tracks and help separate the most popular tracks from background music. \n",
    "\n",
    "\n",
    "For this project, we will create several regression models to predict the popularity of tracks in our dataset.  There are certain features that greatly influence a song’s popularity, such as an artist’s following or the genre, but we want to discover if these surface-level elements are truly what dictate a certified banger or if it's the underlying features that are less obvious to listeners.\n",
    "\n",
    "\n",
    "As we explore the different features and machine-learning models we hope to answer some of these guiding questions: \n",
    "\n",
    "   1) What elements have the strongest impact in propelling songs to the top of the charts?\n",
    "   \n",
    "   2) What types of models best fit with our dataset and what metrics will be used to gain the most insight into our \n",
    "      models?\n",
    "      \n",
    "   3) How do different feature selection methods impact model performance? What are the optimal features to place in our\n",
    "      model?\n",
    " \n"
   ]
  },
  {
   "cell_type": "markdown",
   "id": "7c77f8dd-9f24-4c7e-913d-33cc2dd1dbde",
   "metadata": {},
   "source": [
    "## Exploring our Dataset:"
   ]
  },
  {
   "cell_type": "markdown",
   "id": "03f5c245-3cf8-4795-9603-1f74cbad7038",
   "metadata": {},
   "source": [
    "\n",
    "Our data comes from the “Top Hits Spotify from 2000-2019” [dataset](https://www.kaggle.com/datasets/paradisejoy/top-hits-spotify-from-20002019/data\n",
    ") on Kaggle, collected by Mark Koverha. The data consists of roughly 1,900 entries across 18 features and is 254.99 kB in size. The first two columns identify variables, giving the artist’s name and song name. There are several variables that people can immediately identify, such as release year or genre, but 11 of the variables give numerical values to elements of the song, such as “acousticness” or “liveness,” which are much harder to quantify. \n"
   ]
  },
  {
   "cell_type": "markdown",
   "id": "7574fb34-6f11-4038-a569-06fe34450450",
   "metadata": {},
   "source": [
    "## Pre-Processing the Data:"
   ]
  },
  {
   "cell_type": "code",
   "execution_count": 62,
   "id": "55da84a9-0556-44a3-8bd3-e43ad8d0d16d",
   "metadata": {},
   "outputs": [
    {
     "data": {
      "text/html": [
       "<div>\n",
       "<style scoped>\n",
       "    .dataframe tbody tr th:only-of-type {\n",
       "        vertical-align: middle;\n",
       "    }\n",
       "\n",
       "    .dataframe tbody tr th {\n",
       "        vertical-align: top;\n",
       "    }\n",
       "\n",
       "    .dataframe thead th {\n",
       "        text-align: right;\n",
       "    }\n",
       "</style>\n",
       "<table border=\"1\" class=\"dataframe\">\n",
       "  <thead>\n",
       "    <tr style=\"text-align: right;\">\n",
       "      <th></th>\n",
       "      <th>artist</th>\n",
       "      <th>song</th>\n",
       "      <th>duration_ms</th>\n",
       "      <th>explicit</th>\n",
       "      <th>year</th>\n",
       "      <th>popularity</th>\n",
       "      <th>danceability</th>\n",
       "      <th>energy</th>\n",
       "      <th>key</th>\n",
       "      <th>loudness</th>\n",
       "      <th>mode</th>\n",
       "      <th>speechiness</th>\n",
       "      <th>acousticness</th>\n",
       "      <th>instrumentalness</th>\n",
       "      <th>liveness</th>\n",
       "      <th>valence</th>\n",
       "      <th>tempo</th>\n",
       "      <th>genre</th>\n",
       "    </tr>\n",
       "  </thead>\n",
       "  <tbody>\n",
       "    <tr>\n",
       "      <th>0</th>\n",
       "      <td>Britney Spears</td>\n",
       "      <td>Oops!...I Did It Again</td>\n",
       "      <td>211160</td>\n",
       "      <td>False</td>\n",
       "      <td>2000</td>\n",
       "      <td>77</td>\n",
       "      <td>0.751</td>\n",
       "      <td>0.834</td>\n",
       "      <td>1</td>\n",
       "      <td>-5.444</td>\n",
       "      <td>0</td>\n",
       "      <td>0.0437</td>\n",
       "      <td>0.3000</td>\n",
       "      <td>0.000018</td>\n",
       "      <td>0.3550</td>\n",
       "      <td>0.894</td>\n",
       "      <td>95.053</td>\n",
       "      <td>pop</td>\n",
       "    </tr>\n",
       "    <tr>\n",
       "      <th>1</th>\n",
       "      <td>blink-182</td>\n",
       "      <td>All The Small Things</td>\n",
       "      <td>167066</td>\n",
       "      <td>False</td>\n",
       "      <td>1999</td>\n",
       "      <td>79</td>\n",
       "      <td>0.434</td>\n",
       "      <td>0.897</td>\n",
       "      <td>0</td>\n",
       "      <td>-4.918</td>\n",
       "      <td>1</td>\n",
       "      <td>0.0488</td>\n",
       "      <td>0.0103</td>\n",
       "      <td>0.000000</td>\n",
       "      <td>0.6120</td>\n",
       "      <td>0.684</td>\n",
       "      <td>148.726</td>\n",
       "      <td>rock, pop</td>\n",
       "    </tr>\n",
       "    <tr>\n",
       "      <th>2</th>\n",
       "      <td>Faith Hill</td>\n",
       "      <td>Breathe</td>\n",
       "      <td>250546</td>\n",
       "      <td>False</td>\n",
       "      <td>1999</td>\n",
       "      <td>66</td>\n",
       "      <td>0.529</td>\n",
       "      <td>0.496</td>\n",
       "      <td>7</td>\n",
       "      <td>-9.007</td>\n",
       "      <td>1</td>\n",
       "      <td>0.0290</td>\n",
       "      <td>0.1730</td>\n",
       "      <td>0.000000</td>\n",
       "      <td>0.2510</td>\n",
       "      <td>0.278</td>\n",
       "      <td>136.859</td>\n",
       "      <td>pop, country</td>\n",
       "    </tr>\n",
       "    <tr>\n",
       "      <th>3</th>\n",
       "      <td>Bon Jovi</td>\n",
       "      <td>It's My Life</td>\n",
       "      <td>224493</td>\n",
       "      <td>False</td>\n",
       "      <td>2000</td>\n",
       "      <td>78</td>\n",
       "      <td>0.551</td>\n",
       "      <td>0.913</td>\n",
       "      <td>0</td>\n",
       "      <td>-4.063</td>\n",
       "      <td>0</td>\n",
       "      <td>0.0466</td>\n",
       "      <td>0.0263</td>\n",
       "      <td>0.000013</td>\n",
       "      <td>0.3470</td>\n",
       "      <td>0.544</td>\n",
       "      <td>119.992</td>\n",
       "      <td>rock, metal</td>\n",
       "    </tr>\n",
       "    <tr>\n",
       "      <th>4</th>\n",
       "      <td>*NSYNC</td>\n",
       "      <td>Bye Bye Bye</td>\n",
       "      <td>200560</td>\n",
       "      <td>False</td>\n",
       "      <td>2000</td>\n",
       "      <td>65</td>\n",
       "      <td>0.614</td>\n",
       "      <td>0.928</td>\n",
       "      <td>8</td>\n",
       "      <td>-4.806</td>\n",
       "      <td>0</td>\n",
       "      <td>0.0516</td>\n",
       "      <td>0.0408</td>\n",
       "      <td>0.001040</td>\n",
       "      <td>0.0845</td>\n",
       "      <td>0.879</td>\n",
       "      <td>172.656</td>\n",
       "      <td>pop</td>\n",
       "    </tr>\n",
       "    <tr>\n",
       "      <th>...</th>\n",
       "      <td>...</td>\n",
       "      <td>...</td>\n",
       "      <td>...</td>\n",
       "      <td>...</td>\n",
       "      <td>...</td>\n",
       "      <td>...</td>\n",
       "      <td>...</td>\n",
       "      <td>...</td>\n",
       "      <td>...</td>\n",
       "      <td>...</td>\n",
       "      <td>...</td>\n",
       "      <td>...</td>\n",
       "      <td>...</td>\n",
       "      <td>...</td>\n",
       "      <td>...</td>\n",
       "      <td>...</td>\n",
       "      <td>...</td>\n",
       "      <td>...</td>\n",
       "    </tr>\n",
       "    <tr>\n",
       "      <th>1995</th>\n",
       "      <td>Jonas Brothers</td>\n",
       "      <td>Sucker</td>\n",
       "      <td>181026</td>\n",
       "      <td>False</td>\n",
       "      <td>2019</td>\n",
       "      <td>79</td>\n",
       "      <td>0.842</td>\n",
       "      <td>0.734</td>\n",
       "      <td>1</td>\n",
       "      <td>-5.065</td>\n",
       "      <td>0</td>\n",
       "      <td>0.0588</td>\n",
       "      <td>0.0427</td>\n",
       "      <td>0.000000</td>\n",
       "      <td>0.1060</td>\n",
       "      <td>0.952</td>\n",
       "      <td>137.958</td>\n",
       "      <td>pop</td>\n",
       "    </tr>\n",
       "    <tr>\n",
       "      <th>1996</th>\n",
       "      <td>Taylor Swift</td>\n",
       "      <td>Cruel Summer</td>\n",
       "      <td>178426</td>\n",
       "      <td>False</td>\n",
       "      <td>2019</td>\n",
       "      <td>78</td>\n",
       "      <td>0.552</td>\n",
       "      <td>0.702</td>\n",
       "      <td>9</td>\n",
       "      <td>-5.707</td>\n",
       "      <td>1</td>\n",
       "      <td>0.1570</td>\n",
       "      <td>0.1170</td>\n",
       "      <td>0.000021</td>\n",
       "      <td>0.1050</td>\n",
       "      <td>0.564</td>\n",
       "      <td>169.994</td>\n",
       "      <td>pop</td>\n",
       "    </tr>\n",
       "    <tr>\n",
       "      <th>1997</th>\n",
       "      <td>Blanco Brown</td>\n",
       "      <td>The Git Up</td>\n",
       "      <td>200593</td>\n",
       "      <td>False</td>\n",
       "      <td>2019</td>\n",
       "      <td>69</td>\n",
       "      <td>0.847</td>\n",
       "      <td>0.678</td>\n",
       "      <td>9</td>\n",
       "      <td>-8.635</td>\n",
       "      <td>1</td>\n",
       "      <td>0.1090</td>\n",
       "      <td>0.0669</td>\n",
       "      <td>0.000000</td>\n",
       "      <td>0.2740</td>\n",
       "      <td>0.811</td>\n",
       "      <td>97.984</td>\n",
       "      <td>hip hop, country</td>\n",
       "    </tr>\n",
       "    <tr>\n",
       "      <th>1998</th>\n",
       "      <td>Sam Smith</td>\n",
       "      <td>Dancing With A Stranger (with Normani)</td>\n",
       "      <td>171029</td>\n",
       "      <td>False</td>\n",
       "      <td>2019</td>\n",
       "      <td>75</td>\n",
       "      <td>0.741</td>\n",
       "      <td>0.520</td>\n",
       "      <td>8</td>\n",
       "      <td>-7.513</td>\n",
       "      <td>1</td>\n",
       "      <td>0.0656</td>\n",
       "      <td>0.4500</td>\n",
       "      <td>0.000002</td>\n",
       "      <td>0.2220</td>\n",
       "      <td>0.347</td>\n",
       "      <td>102.998</td>\n",
       "      <td>pop</td>\n",
       "    </tr>\n",
       "    <tr>\n",
       "      <th>1999</th>\n",
       "      <td>Post Malone</td>\n",
       "      <td>Circles</td>\n",
       "      <td>215280</td>\n",
       "      <td>False</td>\n",
       "      <td>2019</td>\n",
       "      <td>85</td>\n",
       "      <td>0.695</td>\n",
       "      <td>0.762</td>\n",
       "      <td>0</td>\n",
       "      <td>-3.497</td>\n",
       "      <td>1</td>\n",
       "      <td>0.0395</td>\n",
       "      <td>0.1920</td>\n",
       "      <td>0.002440</td>\n",
       "      <td>0.0863</td>\n",
       "      <td>0.553</td>\n",
       "      <td>120.042</td>\n",
       "      <td>hip hop</td>\n",
       "    </tr>\n",
       "  </tbody>\n",
       "</table>\n",
       "<p>2000 rows × 18 columns</p>\n",
       "</div>"
      ],
      "text/plain": [
       "              artist                                    song  duration_ms  \\\n",
       "0     Britney Spears                  Oops!...I Did It Again       211160   \n",
       "1          blink-182                    All The Small Things       167066   \n",
       "2         Faith Hill                                 Breathe       250546   \n",
       "3           Bon Jovi                            It's My Life       224493   \n",
       "4             *NSYNC                             Bye Bye Bye       200560   \n",
       "...              ...                                     ...          ...   \n",
       "1995  Jonas Brothers                                  Sucker       181026   \n",
       "1996    Taylor Swift                            Cruel Summer       178426   \n",
       "1997    Blanco Brown                              The Git Up       200593   \n",
       "1998       Sam Smith  Dancing With A Stranger (with Normani)       171029   \n",
       "1999     Post Malone                                 Circles       215280   \n",
       "\n",
       "      explicit  year  popularity  danceability  energy  key  loudness  mode  \\\n",
       "0        False  2000          77         0.751   0.834    1    -5.444     0   \n",
       "1        False  1999          79         0.434   0.897    0    -4.918     1   \n",
       "2        False  1999          66         0.529   0.496    7    -9.007     1   \n",
       "3        False  2000          78         0.551   0.913    0    -4.063     0   \n",
       "4        False  2000          65         0.614   0.928    8    -4.806     0   \n",
       "...        ...   ...         ...           ...     ...  ...       ...   ...   \n",
       "1995     False  2019          79         0.842   0.734    1    -5.065     0   \n",
       "1996     False  2019          78         0.552   0.702    9    -5.707     1   \n",
       "1997     False  2019          69         0.847   0.678    9    -8.635     1   \n",
       "1998     False  2019          75         0.741   0.520    8    -7.513     1   \n",
       "1999     False  2019          85         0.695   0.762    0    -3.497     1   \n",
       "\n",
       "      speechiness  acousticness  instrumentalness  liveness  valence    tempo  \\\n",
       "0          0.0437        0.3000          0.000018    0.3550    0.894   95.053   \n",
       "1          0.0488        0.0103          0.000000    0.6120    0.684  148.726   \n",
       "2          0.0290        0.1730          0.000000    0.2510    0.278  136.859   \n",
       "3          0.0466        0.0263          0.000013    0.3470    0.544  119.992   \n",
       "4          0.0516        0.0408          0.001040    0.0845    0.879  172.656   \n",
       "...           ...           ...               ...       ...      ...      ...   \n",
       "1995       0.0588        0.0427          0.000000    0.1060    0.952  137.958   \n",
       "1996       0.1570        0.1170          0.000021    0.1050    0.564  169.994   \n",
       "1997       0.1090        0.0669          0.000000    0.2740    0.811   97.984   \n",
       "1998       0.0656        0.4500          0.000002    0.2220    0.347  102.998   \n",
       "1999       0.0395        0.1920          0.002440    0.0863    0.553  120.042   \n",
       "\n",
       "                 genre  \n",
       "0                  pop  \n",
       "1            rock, pop  \n",
       "2         pop, country  \n",
       "3          rock, metal  \n",
       "4                  pop  \n",
       "...                ...  \n",
       "1995               pop  \n",
       "1996               pop  \n",
       "1997  hip hop, country  \n",
       "1998               pop  \n",
       "1999           hip hop  \n",
       "\n",
       "[2000 rows x 18 columns]"
      ]
     },
     "execution_count": 62,
     "metadata": {},
     "output_type": "execute_result"
    }
   ],
   "source": [
    "# Import all necessary Python libraries and modules\n",
    "import numpy as np\n",
    "import seaborn as sns\n",
    "import pandas as pd\n",
    "from matplotlib import pyplot as plt \n",
    "from sklearn import preprocessing\n",
    "from sklearn.model_selection import train_test_split\n",
    "from sklearn.ensemble import RandomForestRegressor\n",
    "from sklearn.metrics import mean_squared_error, mean_absolute_error, r2_score\n",
    "\n",
    "#Load in dataset\n",
    "df = pd.read_csv(\"dataset.csv\");\n",
    "df"
   ]
  },
  {
   "cell_type": "code",
   "execution_count": 63,
   "id": "0f0553b0-0b39-43a3-8a22-a97f862be339",
   "metadata": {},
   "outputs": [
    {
     "data": {
      "text/plain": [
       "(2000, 18)"
      ]
     },
     "execution_count": 63,
     "metadata": {},
     "output_type": "execute_result"
    }
   ],
   "source": [
    "df.shape # 2000 songs and 18 features"
   ]
  },
  {
   "cell_type": "code",
   "execution_count": 64,
   "id": "88c4523e-fe4c-45f4-80ae-5b9744b6173f",
   "metadata": {},
   "outputs": [
    {
     "data": {
      "text/plain": [
       "artist               object\n",
       "song                 object\n",
       "duration_ms           int64\n",
       "explicit               bool\n",
       "year                  int64\n",
       "popularity            int64\n",
       "danceability        float64\n",
       "energy              float64\n",
       "key                   int64\n",
       "loudness            float64\n",
       "mode                  int64\n",
       "speechiness         float64\n",
       "acousticness        float64\n",
       "instrumentalness    float64\n",
       "liveness            float64\n",
       "valence             float64\n",
       "tempo               float64\n",
       "genre                object\n",
       "dtype: object"
      ]
     },
     "execution_count": 64,
     "metadata": {},
     "output_type": "execute_result"
    }
   ],
   "source": [
    "df.dtypes # match as expected"
   ]
  },
  {
   "cell_type": "code",
   "execution_count": 65,
   "id": "0d8be4b7-0af3-489d-ad24-a191be6e0d50",
   "metadata": {},
   "outputs": [
    {
     "data": {
      "text/plain": [
       "artist              0\n",
       "song                0\n",
       "duration_ms         0\n",
       "explicit            0\n",
       "year                0\n",
       "popularity          0\n",
       "danceability        0\n",
       "energy              0\n",
       "key                 0\n",
       "loudness            0\n",
       "mode                0\n",
       "speechiness         0\n",
       "acousticness        0\n",
       "instrumentalness    0\n",
       "liveness            0\n",
       "valence             0\n",
       "tempo               0\n",
       "genre               0\n",
       "dtype: int64"
      ]
     },
     "execution_count": 65,
     "metadata": {},
     "output_type": "execute_result"
    }
   ],
   "source": [
    "df.isna().sum() # No Null values"
   ]
  },
  {
   "cell_type": "code",
   "execution_count": 66,
   "id": "42950409-ee25-480e-9cda-9d1fa5431d6a",
   "metadata": {},
   "outputs": [
    {
     "data": {
      "text/plain": [
       "59"
      ]
     },
     "execution_count": 66,
     "metadata": {},
     "output_type": "execute_result"
    }
   ],
   "source": [
    "df.duplicated().sum() # 59 Duplicates in our dataset"
   ]
  },
  {
   "cell_type": "code",
   "execution_count": 67,
   "id": "a7f92cee-99d9-4653-b144-6ad8490d7cd7",
   "metadata": {},
   "outputs": [],
   "source": [
    "df.drop_duplicates(inplace=True) # Dropping all 59 duplicate entries b/c we have a large set of entires in our dataset (1900+)"
   ]
  },
  {
   "cell_type": "code",
   "execution_count": 68,
   "id": "f7cd40c9-7275-4989-b5f2-505301b537a6",
   "metadata": {},
   "outputs": [
    {
     "data": {
      "text/plain": [
       "(1941, 18)"
      ]
     },
     "execution_count": 68,
     "metadata": {},
     "output_type": "execute_result"
    }
   ],
   "source": [
    "df.shape # 1941 Songs left after dropping duplicates"
   ]
  },
  {
   "cell_type": "code",
   "execution_count": 69,
   "id": "d7e7fb15-15b5-403c-8a9d-3a4b95143e17",
   "metadata": {},
   "outputs": [],
   "source": [
    "df.drop(columns=[\"key\", \"song\", \"mode\"], inplace=True) # Drop irrelevant columns in the dataset"
   ]
  },
  {
   "cell_type": "code",
   "execution_count": 70,
   "id": "287fb164-62a9-4eb3-ba07-d9613edf0c26",
   "metadata": {},
   "outputs": [],
   "source": [
    "# Split genre column into multiple values and hot encode the newly created columns (Used ChatGPT-4 for assistance on creating the Lamda functions)\n",
    "df['genre'] = df['genre'].str.split(r'\\s*,\\s*')\n",
    "\n",
    "all_genres = set([genre for genres in df['genre'] for genre in genres])\n",
    "\n",
    "for genre in all_genres:\n",
    "    df[genre] = df['genre'].apply(lambda x: 1 if genre in x else 0)\n",
    "\n",
    "# Drop the original Genre column after hot encoding\n",
    "df = df.drop(columns=['genre'])\n",
    "\n",
    "\n"
   ]
  },
  {
   "cell_type": "code",
   "execution_count": 71,
   "id": "79a4a6e9-23fb-4447-884b-f9c286d4d1c2",
   "metadata": {},
   "outputs": [
    {
     "data": {
      "text/plain": [
       "Index(['artist', 'duration_ms', 'explicit', 'year', 'popularity',\n",
       "       'danceability', 'energy', 'loudness', 'speechiness', 'acousticness',\n",
       "       'instrumentalness', 'liveness', 'valence', 'tempo', 'metal', 'set()',\n",
       "       'country', 'rock', 'blues', 'jazz', 'pop', 'Dance/Electronic',\n",
       "       'Folk/Acoustic', 'classical', 'latin', 'R&B', 'hip hop',\n",
       "       'World/Traditional', 'easy listening'],\n",
       "      dtype='object')"
      ]
     },
     "execution_count": 71,
     "metadata": {},
     "output_type": "execute_result"
    }
   ],
   "source": [
    "df.columns"
   ]
  },
  {
   "cell_type": "code",
   "execution_count": 72,
   "id": "f3d68a4e-65b4-40a7-ab0a-6c3b103bbe79",
   "metadata": {},
   "outputs": [],
   "source": [
    "df = df[df[\"set()\"] != 1] # filters any song that has a genre set to set() b/c there is no set() genre\n"
   ]
  },
  {
   "cell_type": "code",
   "execution_count": 73,
   "id": "0f4bcfaa-3c14-472b-b26c-002bfef3863e",
   "metadata": {},
   "outputs": [],
   "source": [
    "df = df.drop(columns=['set()']) # Drops the set() column"
   ]
  },
  {
   "cell_type": "code",
   "execution_count": 74,
   "id": "4a906405-7f96-4e88-a22f-bb4c9e493404",
   "metadata": {},
   "outputs": [],
   "source": [
    "# Hot encodes artist features that will be used in our models\n",
    "df = pd.get_dummies(df, columns=[\"artist\"], prefix=\"artist\")"
   ]
  },
  {
   "cell_type": "code",
   "execution_count": 75,
   "id": "65dc9d5d-f78c-4635-bf85-5d6c3e713332",
   "metadata": {},
   "outputs": [
    {
     "data": {
      "text/html": [
       "<div>\n",
       "<style scoped>\n",
       "    .dataframe tbody tr th:only-of-type {\n",
       "        vertical-align: middle;\n",
       "    }\n",
       "\n",
       "    .dataframe tbody tr th {\n",
       "        vertical-align: top;\n",
       "    }\n",
       "\n",
       "    .dataframe thead th {\n",
       "        text-align: right;\n",
       "    }\n",
       "</style>\n",
       "<table border=\"1\" class=\"dataframe\">\n",
       "  <thead>\n",
       "    <tr style=\"text-align: right;\">\n",
       "      <th></th>\n",
       "      <th>duration_ms</th>\n",
       "      <th>explicit</th>\n",
       "      <th>year</th>\n",
       "      <th>popularity</th>\n",
       "      <th>danceability</th>\n",
       "      <th>energy</th>\n",
       "      <th>loudness</th>\n",
       "      <th>speechiness</th>\n",
       "      <th>acousticness</th>\n",
       "      <th>instrumentalness</th>\n",
       "      <th>...</th>\n",
       "      <th>artist_alt-J</th>\n",
       "      <th>artist_benny blanco</th>\n",
       "      <th>artist_blackbear</th>\n",
       "      <th>artist_blink-182</th>\n",
       "      <th>artist_fun.</th>\n",
       "      <th>artist_girl in red</th>\n",
       "      <th>artist_iann dior</th>\n",
       "      <th>artist_iio</th>\n",
       "      <th>artist_t.A.T.u.</th>\n",
       "      <th>artist_will.i.am</th>\n",
       "    </tr>\n",
       "  </thead>\n",
       "  <tbody>\n",
       "    <tr>\n",
       "      <th>0</th>\n",
       "      <td>-0.449266</td>\n",
       "      <td>-0.62174</td>\n",
       "      <td>-1.619698</td>\n",
       "      <td>0.804072</td>\n",
       "      <td>0.597047</td>\n",
       "      <td>0.737144</td>\n",
       "      <td>0.034022</td>\n",
       "      <td>-0.627735</td>\n",
       "      <td>1.003101</td>\n",
       "      <td>-0.172803</td>\n",
       "      <td>...</td>\n",
       "      <td>-0.022834</td>\n",
       "      <td>-0.022834</td>\n",
       "      <td>-0.022834</td>\n",
       "      <td>-0.022834</td>\n",
       "      <td>-0.022834</td>\n",
       "      <td>-0.022834</td>\n",
       "      <td>-0.0323</td>\n",
       "      <td>-0.022834</td>\n",
       "      <td>-0.022834</td>\n",
       "      <td>-0.045703</td>\n",
       "    </tr>\n",
       "    <tr>\n",
       "      <th>1</th>\n",
       "      <td>-1.574732</td>\n",
       "      <td>-0.62174</td>\n",
       "      <td>-1.789768</td>\n",
       "      <td>0.896804</td>\n",
       "      <td>-1.656038</td>\n",
       "      <td>1.149391</td>\n",
       "      <td>0.304838</td>\n",
       "      <td>-0.574844</td>\n",
       "      <td>-0.682162</td>\n",
       "      <td>-0.173005</td>\n",
       "      <td>...</td>\n",
       "      <td>-0.022834</td>\n",
       "      <td>-0.022834</td>\n",
       "      <td>-0.022834</td>\n",
       "      <td>43.794977</td>\n",
       "      <td>-0.022834</td>\n",
       "      <td>-0.022834</td>\n",
       "      <td>-0.0323</td>\n",
       "      <td>-0.022834</td>\n",
       "      <td>-0.022834</td>\n",
       "      <td>-0.045703</td>\n",
       "    </tr>\n",
       "    <tr>\n",
       "      <th>2</th>\n",
       "      <td>0.556032</td>\n",
       "      <td>-0.62174</td>\n",
       "      <td>-1.789768</td>\n",
       "      <td>0.294046</td>\n",
       "      <td>-0.980823</td>\n",
       "      <td>-1.474598</td>\n",
       "      <td>-1.800428</td>\n",
       "      <td>-0.780186</td>\n",
       "      <td>0.264308</td>\n",
       "      <td>-0.173005</td>\n",
       "      <td>...</td>\n",
       "      <td>-0.022834</td>\n",
       "      <td>-0.022834</td>\n",
       "      <td>-0.022834</td>\n",
       "      <td>-0.022834</td>\n",
       "      <td>-0.022834</td>\n",
       "      <td>-0.022834</td>\n",
       "      <td>-0.0323</td>\n",
       "      <td>-0.022834</td>\n",
       "      <td>-0.022834</td>\n",
       "      <td>-0.045703</td>\n",
       "    </tr>\n",
       "    <tr>\n",
       "      <th>3</th>\n",
       "      <td>-0.108951</td>\n",
       "      <td>-0.62174</td>\n",
       "      <td>-1.619698</td>\n",
       "      <td>0.850438</td>\n",
       "      <td>-0.824458</td>\n",
       "      <td>1.254089</td>\n",
       "      <td>0.745045</td>\n",
       "      <td>-0.597659</td>\n",
       "      <td>-0.589086</td>\n",
       "      <td>-0.172851</td>\n",
       "      <td>...</td>\n",
       "      <td>-0.022834</td>\n",
       "      <td>-0.022834</td>\n",
       "      <td>-0.022834</td>\n",
       "      <td>-0.022834</td>\n",
       "      <td>-0.022834</td>\n",
       "      <td>-0.022834</td>\n",
       "      <td>-0.0323</td>\n",
       "      <td>-0.022834</td>\n",
       "      <td>-0.022834</td>\n",
       "      <td>-0.045703</td>\n",
       "    </tr>\n",
       "    <tr>\n",
       "      <th>4</th>\n",
       "      <td>-0.719823</td>\n",
       "      <td>-0.62174</td>\n",
       "      <td>-1.619698</td>\n",
       "      <td>0.247680</td>\n",
       "      <td>-0.376684</td>\n",
       "      <td>1.352244</td>\n",
       "      <td>0.362503</td>\n",
       "      <td>-0.545805</td>\n",
       "      <td>-0.504735</td>\n",
       "      <td>-0.161118</td>\n",
       "      <td>...</td>\n",
       "      <td>-0.022834</td>\n",
       "      <td>-0.022834</td>\n",
       "      <td>-0.022834</td>\n",
       "      <td>-0.022834</td>\n",
       "      <td>-0.022834</td>\n",
       "      <td>-0.022834</td>\n",
       "      <td>-0.0323</td>\n",
       "      <td>-0.022834</td>\n",
       "      <td>-0.022834</td>\n",
       "      <td>-0.045703</td>\n",
       "    </tr>\n",
       "  </tbody>\n",
       "</table>\n",
       "<p>5 rows × 840 columns</p>\n",
       "</div>"
      ],
      "text/plain": [
       "   duration_ms  explicit      year  popularity  danceability    energy  \\\n",
       "0    -0.449266  -0.62174 -1.619698    0.804072      0.597047  0.737144   \n",
       "1    -1.574732  -0.62174 -1.789768    0.896804     -1.656038  1.149391   \n",
       "2     0.556032  -0.62174 -1.789768    0.294046     -0.980823 -1.474598   \n",
       "3    -0.108951  -0.62174 -1.619698    0.850438     -0.824458  1.254089   \n",
       "4    -0.719823  -0.62174 -1.619698    0.247680     -0.376684  1.352244   \n",
       "\n",
       "   loudness  speechiness  acousticness  instrumentalness  ...  artist_alt-J  \\\n",
       "0  0.034022    -0.627735      1.003101         -0.172803  ...     -0.022834   \n",
       "1  0.304838    -0.574844     -0.682162         -0.173005  ...     -0.022834   \n",
       "2 -1.800428    -0.780186      0.264308         -0.173005  ...     -0.022834   \n",
       "3  0.745045    -0.597659     -0.589086         -0.172851  ...     -0.022834   \n",
       "4  0.362503    -0.545805     -0.504735         -0.161118  ...     -0.022834   \n",
       "\n",
       "   artist_benny blanco  artist_blackbear  artist_blink-182  artist_fun.  \\\n",
       "0            -0.022834         -0.022834         -0.022834    -0.022834   \n",
       "1            -0.022834         -0.022834         43.794977    -0.022834   \n",
       "2            -0.022834         -0.022834         -0.022834    -0.022834   \n",
       "3            -0.022834         -0.022834         -0.022834    -0.022834   \n",
       "4            -0.022834         -0.022834         -0.022834    -0.022834   \n",
       "\n",
       "   artist_girl in red  artist_iann dior  artist_iio  artist_t.A.T.u.  \\\n",
       "0           -0.022834           -0.0323   -0.022834        -0.022834   \n",
       "1           -0.022834           -0.0323   -0.022834        -0.022834   \n",
       "2           -0.022834           -0.0323   -0.022834        -0.022834   \n",
       "3           -0.022834           -0.0323   -0.022834        -0.022834   \n",
       "4           -0.022834           -0.0323   -0.022834        -0.022834   \n",
       "\n",
       "   artist_will.i.am  \n",
       "0         -0.045703  \n",
       "1         -0.045703  \n",
       "2         -0.045703  \n",
       "3         -0.045703  \n",
       "4         -0.045703  \n",
       "\n",
       "[5 rows x 840 columns]"
      ]
     },
     "execution_count": 75,
     "metadata": {},
     "output_type": "execute_result"
    }
   ],
   "source": [
    "# Lets standardize the data to ensure that our features are all on the same scale\n",
    "standardized_df = pd.DataFrame(preprocessing.StandardScaler().fit_transform(df),columns = df.columns)\n",
    "standardized_df.head()"
   ]
  },
  {
   "cell_type": "markdown",
   "id": "39333c3d-b02e-49c7-af6a-117be476379d",
   "metadata": {},
   "source": [
    "## Data Visualization / Understanding:"
   ]
  },
  {
   "cell_type": "markdown",
   "id": "77284e17-d8c6-4678-aca6-af6b4b4d78d4",
   "metadata": {},
   "source": [
    "#### General Distribution of Song Genres"
   ]
  },
  {
   "cell_type": "code",
   "execution_count": 76,
   "id": "30e37ec6-e37e-454c-961d-41d3ace0449e",
   "metadata": {},
   "outputs": [
    {
     "data": {
      "image/png": "[encoded data removed]",
      "text/plain": [
       "<Figure size 640x480 with 1 Axes>"
      ]
     },
     "metadata": {},
     "output_type": "display_data"
    }
   ],
   "source": [
    "mylabels = ['classical', 'R&B',\n",
    "       'World/Traditional', 'latin', 'Dance/Electronic', 'rock', 'hip hop',\n",
    "       'Folk/Acoustic', 'metal', 'jazz', 'blues', 'pop', 'country',\n",
    "       'easy listening']\n",
    "\n",
    "# Calculate the total value for each genre\n",
    "y = df[['classical', 'R&B',\n",
    "       'World/Traditional', 'latin', 'Dance/Electronic', 'rock', 'hip hop',\n",
    "       'Folk/Acoustic', 'metal', 'jazz', 'blues', 'pop', 'country',\n",
    "       'easy listening']].sum()\n",
    "\n",
    "# Creating and changing pie chart arguments\n",
    "colors = ['#ff9999','#66b3ff','#99ff99','#ffcc99','#c2c2f0','#ffb3e6','#c2f0c2','#ff6666']\n",
    "plt.pie(y, labels=mylabels, startangle=90, autopct='%1.1f%%', textprops={'fontsize': 12}, colors=colors)\n",
    "plt.title(\"Genre Distribution\", fontsize=16)\n",
    "plt.show()"
   ]
  },
  {
   "cell_type": "markdown",
   "id": "0985c212-5f5a-489e-b742-b957f9d7cf1e",
   "metadata": {},
   "source": [
    "#### How Strongly Correlated are our Features?"
   ]
  },
  {
   "cell_type": "code",
   "execution_count": 77,
   "id": "40fcc81c-a2e7-4ed2-9a58-5035e8cb72a3",
   "metadata": {},
   "outputs": [
    {
     "data": {
      "image/png": "[encoded data removed]",
      "text/plain": [
       "<Figure size 2000x1200 with 2 Axes>"
      ]
     },
     "metadata": {},
     "output_type": "display_data"
    }
   ],
   "source": [
    "# Get the correlations\n",
    "correlation_columns = [col for col in standardized_df.columns if not col.startswith(\"artist_\")] # Excludes columns that contain artist_names as they won't have any correlations with any features in our dataset\n",
    "correlation_df = df[correlation_columns]\n",
    "corr = correlation_df.corr()\n",
    "\n",
    "# Create a mask so that way we only see the lower half of the matrix\n",
    "mask = np.triu(np.ones_like(corr, dtype=bool))\n",
    "\n",
    "plt.figure(figsize=(20, 12))\n",
    "\n",
    "sns.heatmap(corr, mask=mask)\n",
    "\n",
    "plt.title('Correlation Heatmap', fontsize=20)\n",
    "plt.show()"
   ]
  },
  {
   "cell_type": "code",
   "execution_count": 78,
   "id": "c4e79514-5316-41b4-8221-65eabce98f8e",
   "metadata": {},
   "outputs": [
    {
     "name": "stdout",
     "output_type": "stream",
     "text": [
      "y_test values:\n",
      "1604     1\n",
      "1430    70\n",
      "633     65\n",
      "1415    69\n",
      "425     63\n",
      "        ..\n",
      "196     56\n",
      "1614    67\n",
      "448     68\n",
      "1518    70\n",
      "1409    49\n",
      "Name: popularity, Length: 384, dtype: int64\n"
     ]
    }
   ],
   "source": [
    "from sklearn.preprocessing import StandardScaler, OneHotEncoder\n",
    "from sklearn.compose import ColumnTransformer\n",
    "from sklearn.pipeline import Pipeline\n",
    "\n",
    "X = df.drop(['popularity'] , axis=1)\n",
    "y = df['popularity']\n",
    "\n",
    "X_train, X_test, y_train, y_test = train_test_split(X, y, test_size=0.2, random_state=42)\n",
    "\n",
    "scaler = StandardScaler()\n",
    "X_train_scaled = scaler.fit_transform(X_train)\n",
    "X_test_scaled = scaler.transform(X_test)\n",
    "print(\"y_test values:\")\n",
    "print(y_test)"
   ]
  },
  {
   "cell_type": "markdown",
   "id": "7b56ddc9",
   "metadata": {},
   "source": [
    "## Modeling:"
   ]
  },
  {
   "cell_type": "code",
   "execution_count": 79,
   "id": "12872075-909f-47ab-9200-323dcc1e549a",
   "metadata": {},
   "outputs": [
    {
     "name": "stdout",
     "output_type": "stream",
     "text": [
      "Model training complete.\n"
     ]
    }
   ],
   "source": [
    "from sklearn.ensemble import RandomForestRegressor\n",
    "\n",
    "# Train a Random Forest Regressor\n",
    "model = RandomForestRegressor(random_state=42)\n",
    "\n",
    "# Fit the model to the training data\n",
    "model.fit(X_train_scaled, y_train)\n",
    "\n",
    "y_pred = model.predict(X_test_scaled)\n",
    "\n",
    "print(\"Model training complete.\")"
   ]
  },
  {
   "cell_type": "code",
   "execution_count": 80,
   "id": "f0531e2a-3daa-4c74-b342-5ae1037e6302",
   "metadata": {},
   "outputs": [
    {
     "name": "stdout",
     "output_type": "stream",
     "text": [
      "      Actual  Predicted\n",
      "1604       1      30.22\n",
      "1430      70      40.59\n",
      "633       65      65.63\n",
      "1415      69      49.44\n",
      "425       63      59.15\n",
      "...      ...        ...\n",
      "196       56      59.83\n",
      "1614      67      69.49\n",
      "448       68      60.25\n",
      "1518      70      69.43\n",
      "1409      49      58.06\n",
      "\n",
      "[384 rows x 2 columns]\n"
     ]
    }
   ],
   "source": [
    "comparison = pd.DataFrame({'Actual': y_test, 'Predicted': y_pred})\n",
    "print(comparison)"
   ]
  },
  {
   "cell_type": "code",
   "execution_count": 81,
   "id": "74e6dd5f",
   "metadata": {},
   "outputs": [
    {
     "name": "stdout",
     "output_type": "stream",
     "text": [
      "Model training complete.\n"
     ]
    }
   ],
   "source": [
    "from sklearn.linear_model import LinearRegression\n",
    "\n",
    "# Train a Linear Regression model\n",
    "model2 = LinearRegression()\n",
    "\n",
    "# Fit the model to the training data\n",
    "model2.fit(X_train_scaled, y_train)\n",
    "\n",
    "# Make predictions on the test data\n",
    "y_pred2 = model2.predict(X_test_scaled)\n",
    "\n",
    "print(\"Model training complete.\")"
   ]
  },
  {
   "cell_type": "code",
   "execution_count": 82,
   "id": "14365320",
   "metadata": {},
   "outputs": [
    {
     "name": "stdout",
     "output_type": "stream",
     "text": [
      "      Actual     Predicted\n",
      "1604       1  9.928979e+00\n",
      "1430      70  5.080398e+01\n",
      "633       65  7.892898e+01\n",
      "1415      69  4.374148e+01\n",
      "425       63  6.392898e+01\n",
      "...      ...           ...\n",
      "196       56 -1.130428e+14\n",
      "1614      67  7.883523e+01\n",
      "448       68  7.917898e+01\n",
      "1518      70  6.871023e+01\n",
      "1409      49 -2.125990e+14\n",
      "\n",
      "[384 rows x 2 columns]\n"
     ]
    }
   ],
   "source": [
    "comparison2 = pd.DataFrame({'Actual': y_test, 'Predicted': y_pred2})\n",
    "print(comparison2)"
   ]
  },
  {
   "cell_type": "code",
   "execution_count": 83,
   "id": "e7ab5cff",
   "metadata": {},
   "outputs": [
    {
     "name": "stdout",
     "output_type": "stream",
     "text": [
      "Model training complete.\n"
     ]
    }
   ],
   "source": [
    "from sklearn.tree import DecisionTreeRegressor\n",
    "\n",
    "# Train a Decision Tree Regressor\n",
    "model3 = DecisionTreeRegressor(random_state=42)\n",
    "\n",
    "# Fit the model to the training data\n",
    "model3.fit(X_train_scaled, y_train)\n",
    "\n",
    "# Make predictions on the test data\n",
    "y_pred3 = model.predict(X_test_scaled)\n",
    "\n",
    "print(\"Model training complete.\")"
   ]
  },
  {
   "cell_type": "code",
   "execution_count": 84,
   "id": "e3976bf8",
   "metadata": {},
   "outputs": [
    {
     "name": "stdout",
     "output_type": "stream",
     "text": [
      "      Actual  Predicted\n",
      "1604       1      30.22\n",
      "1430      70      40.59\n",
      "633       65      65.63\n",
      "1415      69      49.44\n",
      "425       63      59.15\n",
      "...      ...        ...\n",
      "196       56      59.83\n",
      "1614      67      69.49\n",
      "448       68      60.25\n",
      "1518      70      69.43\n",
      "1409      49      58.06\n",
      "\n",
      "[384 rows x 2 columns]\n"
     ]
    }
   ],
   "source": [
    "comparison3 = pd.DataFrame({'Actual': y_test, 'Predicted': y_pred3})\n",
    "print(comparison3)"
   ]
  },
  {
   "cell_type": "markdown",
   "id": "8e6debb0",
   "metadata": {},
   "source": [
    "## Evaluation:\n"
   ]
  },
  {
   "cell_type": "code",
   "execution_count": 85,
   "id": "5a944cbf-be57-443c-a4ed-7e6ca625e659",
   "metadata": {},
   "outputs": [
    {
     "name": "stdout",
     "output_type": "stream",
     "text": [
      "Model Evaluation Metrics:\n",
      "Mean Squared Error: 470.8153927976707\n",
      "Mean Absolute Error: 13.65773220486111\n",
      "R² Score: 0.061516839674370605\n"
     ]
    }
   ],
   "source": [
    "from sklearn.metrics import mean_squared_error, mean_absolute_error, r2_score\n",
    "\n",
    "# Predictions\n",
    "y_pred = model.predict(X_test_scaled)\n",
    "\n",
    "# Evaluate the model\n",
    "mse = mean_squared_error(y_test, y_pred)\n",
    "mae = mean_absolute_error(y_test, y_pred)\n",
    "r2 = r2_score(y_test, y_pred)\n",
    "\n",
    "print(f\"Model Evaluation Metrics:\")\n",
    "print(f\"Mean Squared Error: {mse}\")\n",
    "print(f\"Mean Absolute Error: {mae}\")\n",
    "print(f\"R² Score: {r2}\")"
   ]
  },
  {
   "cell_type": "code",
   "execution_count": 86,
   "id": "472fd7b0",
   "metadata": {},
   "outputs": [
    {
     "name": "stdout",
     "output_type": "stream",
     "text": [
      "Model Evaluation Metrics:\n",
      "Mean Squared Error: 2.0876801323154806e+29\n",
      "Mean Absolute Error: 147243303134094.4\n",
      "R² Score: -4.161403128054554e+26\n"
     ]
    }
   ],
   "source": [
    "from sklearn.metrics import mean_squared_error, mean_absolute_error, r2_score\n",
    "\n",
    "# Predictions\n",
    "y_pred2 = model2.predict(X_test_scaled)\n",
    "\n",
    "# Evaluate the model\n",
    "mse = mean_squared_error(y_test, y_pred2)\n",
    "mae = mean_absolute_error(y_test, y_pred2)\n",
    "r2 = r2_score(y_test, y_pred2)\n",
    "\n",
    "print(f\"Model Evaluation Metrics:\")\n",
    "print(f\"Mean Squared Error: {mse}\")\n",
    "print(f\"Mean Absolute Error: {mae}\")\n",
    "print(f\"R² Score: {r2}\")"
   ]
  },
  {
   "cell_type": "code",
   "execution_count": 87,
   "id": "69c8dbf4",
   "metadata": {},
   "outputs": [
    {
     "name": "stdout",
     "output_type": "stream",
     "text": [
      "Model Evaluation Metrics:\n",
      "Mean Squared Error: 716.4407552083334\n",
      "Mean Absolute Error: 17.037760416666668\n",
      "R² Score: -0.42809176254554226\n"
     ]
    }
   ],
   "source": [
    "from sklearn.metrics import mean_squared_error, mean_absolute_error, r2_score\n",
    "\n",
    "# Predictions\n",
    "y_pred3 = model3.predict(X_test_scaled)\n",
    "\n",
    "# Evaluate the model\n",
    "mse = mean_squared_error(y_test, y_pred3)\n",
    "mae = mean_absolute_error(y_test, y_pred3)\n",
    "r2 = r2_score(y_test, y_pred3)\n",
    "\n",
    "print(f\"Model Evaluation Metrics:\")\n",
    "print(f\"Mean Squared Error: {mse}\")\n",
    "print(f\"Mean Absolute Error: {mae}\")\n",
    "print(f\"R² Score: {r2}\")"
   ]
  },
  {
   "cell_type": "markdown",
   "id": "527cd85d",
   "metadata": {},
   "source": [
    "## Conclusion:\n",
    "\n",
    "Going back to the introduction, these were the three questions we were looking to answer:\n",
    "\n",
    "1) What elements have the strongest impact in propelling songs to the top of the charts?\n",
    "        \n",
    "2) What types of models best fit with our dataset and what metrics will be used to gain the most insight into our models?\n",
    "    \n",
    "3) How do different feature selection methods impact model performance? What are the optimal features to place in ourmodel?\n",
    "\n",
    "So, was the data above able to answer these questions?\n",
    "\n",
    "#### Question 1\n",
    "The best way to answer the first question would be to find the correlation between popularity and other elements in the heatmap shown above. These elements seem to have the highest correlation to popularity:\n",
    "\n",
    "- Two genres had the highest scores, Pop and Dance/Electronic\n",
    "- Instrumentalness, Danceability, and Energy seem to have the top correlation scores. \n",
    "\n",
    "As mentioned briefly in the introduction, it's difficult to use arbitrary elements, such as loudness or danceability, to quantify what makes a song popular. Each person hears music differently, and something that one person likes may be hated by another. However, using the methods above, the dataset showed these elements contribute the most to popularity. Surface level features like a familiar artist or popular genre may help the song get recognized, but these elements do not grant music it's staying power months or even years down the road.\n",
    "\n",
    "One additional note I wanted to point out was the amount of correlation between genres. Whenever any genre is either mixed or classified as multiple genres, the correlation between those increases. Something to keep in mind.\n",
    "\n",
    "#### Question 2\n",
    "Of the created models, the Random Forest Regression model easily performed the best, able to predict within 14 points on average. Of the metrics used for analysis, the Mean Absolute Error (MAE) shows the clearest evidence that this model accurately predicts. Of the three models, the linear regression proved the least useful.\n",
    "\n",
    "#### Question 3\n",
    "While models were trained with various selections of features, we found that more data was always better when training our models. Even if the model did not favor the feature as a strong predictor, each variable had some weight with which it could impact the outcomes.\n",
    "\n",
    "\n",
    "\n",
    "Were this research to be persued further, we would've liked to gain a more robust dataset, focusing on negatively reviewed music, instead of just the popular items. This may be able to give us even further insight into not only what elements to promote, but what elements could be deemed a waste of time."
   ]
  },
  {
   "cell_type": "markdown",
   "id": "a8dd44be",
   "metadata": {},
   "source": [
    "## Impact:\n",
    "\n",
    "An impact of this project could be a shift in how users of Spotify view genres of music. Some may see the overlap in correlation between genres and think that maybe not all songs advertised as a single genre are the same, and broaden their horizons regarding their listening. Others, may see the overlap and assume that everything is the same, and not listen to any other genre than pop. The beauty of music is in the variety, and the fact that there's so many options to choose from allows people to find something they really like, and only listen to that.\n",
    "\n",
    "In theory, there could be no correlation between elements of songs, and how things are determined popular. It could just be how good someone is at creating music, making something catchy, and getting noticed at the right place at the right time. The impact of this could be null and void due to that, because modeling and machine learning sometimes isn't able to keep up with the randomness of humanity.\n",
    "\n",
    "This could also go the other direction with the last point, and cause artists to only focus on the things that make their songs the most popular. If a song doesn't correlate to these arbitrary values, it will never be popular, and thus, never be made. That would be catastrophic for a creative industry, and could lead to a trend that kills all creativity at some point. The likelyhood of this happening is near-zero, but still possible."
   ]
  },
  {
   "cell_type": "markdown",
   "id": "03055480",
   "metadata": {},
   "source": [
    "[github](https://github.com/ryanshz/dm-final)"
   ]
  }
 ],
 "metadata": {
  "kernelspec": {
   "display_name": "base",
   "language": "python",
   "name": "python3"
  },
  "language_info": {
   "codemirror_mode": {
    "name": "ipython",
    "version": 3
   },
   "file_extension": ".py",
   "mimetype": "text/x-python",
   "name": "python",
   "nbconvert_exporter": "python",
   "pygments_lexer": "ipython3",
   "version": "3.12.4"
  }
 },
 "nbformat": 4,
 "nbformat_minor": 5
}
